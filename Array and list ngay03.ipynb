{
 "cells": [
  {
   "cell_type": "code",
   "execution_count": 6,
   "id": "8740c9c0",
   "metadata": {},
   "outputs": [
    {
     "name": "stdout",
     "output_type": "stream",
     "text": [
      "[1, 2, 3]\n"
     ]
    }
   ],
   "source": [
    "array=[1,2,3,4] # tạo danh sách kiểu list\n",
    "print(array[:-1])# in ra màn hình trừ 1 phần tử cuối "
   ]
  },
  {
   "cell_type": "code",
   "execution_count": 7,
   "id": "63a55d02",
   "metadata": {},
   "outputs": [
    {
     "name": "stdout",
     "output_type": "stream",
     "text": [
      "[1, 2]\n"
     ]
    }
   ],
   "source": [
    "array=[1,2,3,4] # tạoh một danh sách list \n",
    "print(array[:-2])# in ra màn hình trừ 2 phần tử cuối "
   ]
  },
  {
   "cell_type": "code",
   "execution_count": 8,
   "id": "3be3010b",
   "metadata": {},
   "outputs": [
    {
     "name": "stdout",
     "output_type": "stream",
     "text": [
      "[1, 2, 3, 4]\n"
     ]
    }
   ],
   "source": [
    "array=[1,2,3,4] # tạo một danh sách list \n",
    "print(array[:])#(dấu : xuất ra các phần tử trong list)"
   ]
  },
  {
   "cell_type": "code",
   "execution_count": 9,
   "id": "adf502af",
   "metadata": {},
   "outputs": [
    {
     "name": "stdout",
     "output_type": "stream",
     "text": [
      "99\n"
     ]
    }
   ],
   "source": [
    "list=[1,2,99,26,5] # tạo một danh sách list\n",
    "max=list[0] # tạo một biến max và gán giá trị đầu tiên của list cho max\n",
    "for num in list :# vòng lặp for để duyệt qua các phần tử của list và trong mỗi lần lặp giá trị của list sẽ được gán cho biến num\n",
    "    if num>max : # nếu giá trị của num lớn hơn max thì max=num\n",
    "        max=num\n",
    "print (max) # in ra màn hình giá trị lớn nhất "
   ]
  },
  {
   "cell_type": "code",
   "execution_count": 10,
   "id": "828fd073",
   "metadata": {},
   "outputs": [
    {
     "name": "stdout",
     "output_type": "stream",
     "text": [
      "0\n"
     ]
    }
   ],
   "source": [
    "list=[1,2,9,26,0] # tạo một danh sách list\n",
    "min=list[0] # tạo một biến min và gán giá trị đầu tiên của list cho biến min \n",
    "for num in list :#vòng lặp for để duyệt qua các phần tử của list và trong mỗi làn lặp giá trị của list sẽ được gán cho biến min\n",
    "    if num<min : # nếu giá trị của min nhỏ hơn giá trị của num thì min = num\n",
    "        min=num\n",
    "print (min) # in ra màn hình giá trị nhỏ nhất "
   ]
  },
  {
   "cell_type": "code",
   "execution_count": 26,
   "id": "bc9bced7",
   "metadata": {},
   "outputs": [
    {
     "name": "stdout",
     "output_type": "stream",
     "text": [
      "[5, 4, 3, 2, 1]\n"
     ]
    }
   ],
   "source": [
    "def reverse (nums): # định nghĩa hàm reverse với tham số đầu vào là nums\n",
    "    start_index=0 #khai báo biến start_index có giá trị 0 theo dõi vị trí ban đầu trong danh sach sưlist\n",
    "    end_index=len(nums)-1 # khai báo biến end_index có giá trị bằng độ dài của danh sách nums trừ đi 1 \n",
    "                          #biến này để theo dõi vị trí của phần tử kết thúc trong numms\n",
    "    while end_index>start_index: # vòng lặp while chạy đến khi end_index lớn hơn start_index\n",
    "        nums[start_index],nums[end_index]=nums[end_index],nums[start_index]\n",
    "#  sử dụng kỹ thuật tuple unpacking để đảo ngược giữa hai phần tử tại vị trí start_index và end_index trong danh sách nums\n",
    "        start_index=start_index+1 \n",
    "#Sau khi đảo ngược phần tử ở vị trí start_indexvà end_index, biến start_indexđược tăng lên 1 để đến phần tử tiếp theo trong list.\n",
    "        end_index=end_index-1#, biến end_index được giảm đi 1 để di chuyển đến phần tử tiếp theo ở cuối danh sách.       \n",
    "if __name__ == '__main__' :#kiểm tra xem chương trình có đang được chạy như một tập lệnh chính hay không.\n",
    "    n=[1,2,3,4,5] # khởi tạo danh sách list mà mình muốn đảo ngược \n",
    "    reverse (n) # gọi hàm reverse với đối số n\n",
    "    print(n) # in danh sách khi đã đảo ngược \n",
    "\n",
    "    "
   ]
  },
  {
   "cell_type": "code",
   "execution_count": 5,
   "id": "f14365f6",
   "metadata": {},
   "outputs": [
    {
     "name": "stdout",
     "output_type": "stream",
     "text": [
      "[2, 3]\n"
     ]
    }
   ],
   "source": [
    "array=[1,2,3,4] # tạo một danh sách list\n",
    "print(array[1:3]) # in ra màn hình giá trị thứ nhất và giá trị 3 của danh sách list"
   ]
  },
  {
   "cell_type": "code",
   "execution_count": 8,
   "id": "d4546fc9",
   "metadata": {},
   "outputs": [
    {
     "name": "stdout",
     "output_type": "stream",
     "text": [
      "[1, 2, 'khanh']\n"
     ]
    }
   ],
   "source": [
    "array=[1,2,\"khanh\",4] # tạo một danh sách list\n",
    "print(array[0:-1]) # in ra màn hình giá trị đầu tiên và giá trị 2 của danh sách list"
   ]
  },
  {
   "cell_type": "code",
   "execution_count": 8,
   "id": "540e5f09",
   "metadata": {},
   "outputs": [
    {
     "name": "stdout",
     "output_type": "stream",
     "text": [
      "Chuỗi là chuỗi đối xứng.\n"
     ]
    }
   ],
   "source": [
    "def is_palindrome(s):\n",
    "    s = s.lower() # Chuyển chuỗi thành chữ thường để so sánh không phân biệt hoa thường\n",
    "    \n",
    "    # Khởi tạo hai con trỏ, một bắt đầu từ đầu và một bắt đầu từ cuối chuỗi\n",
    "    left, right = 0, len(s) - 1\n",
    "    \n",
    "    while left < right:\n",
    "        # Bỏ qua các ký tự không phải chữ và số từ bên trái\n",
    "        while left < right and not s[left].isalnum():\n",
    "            left += 1\n",
    "        \n",
    "        # Bỏ qua các ký tự không phải chữ và số từ bên phải\n",
    "        while left < right and not s[right].isalnum():\n",
    "            right -= 1\n",
    "        \n",
    "        # So sánh các ký tự ở vị trí hiện tại (bỏ qua sự phân biệt hoa thường)\n",
    "        if s[left] != s[right]:\n",
    "            return False\n",
    "        \n",
    "        # Di chuyển các con trỏ gần nhau hơn\n",
    "        left += 1\n",
    "        right -= 1\n",
    "    return True\n",
    "chuoi_nhap = \"A man, a plan, a canal: Panama\"\n",
    "ket_qua = is_palindrome(chuoi_nhap)\n",
    "if ket_qua:\n",
    "    print(\"Chuỗi là chuỗi đối xứng.\")\n",
    "else:\n",
    "    print(\"Chuỗi không phải là chuỗi đối xứng.\")\n",
    "\n",
    "\n"
   ]
  },
  {
   "cell_type": "code",
   "execution_count": 3,
   "id": "c8932dfc",
   "metadata": {},
   "outputs": [
    {
     "name": "stdout",
     "output_type": "stream",
     "text": [
      "Chuỗi là chuỗi đối xứng.\n"
     ]
    }
   ],
   "source": [
    "# Ví dụ sử dụng:\n",
    "chuoi_nhap = \"A man, a plan, a canal: Panama\"\n",
    "ket_qua = is_palindrome(chuoi_nhap)\n",
    "if ket_qua:\n",
    "    print(\"Chuỗi là chuỗi đối xứng.\")\n",
    "else:\n",
    "    print(\"Chuỗi không phải là chuỗi đối xứng.\")\n"
   ]
  },
  {
   "cell_type": "code",
   "execution_count": 11,
   "id": "55c4ee6d",
   "metadata": {},
   "outputs": [
    {
     "name": "stdout",
     "output_type": "stream",
     "text": [
      "4321\n"
     ]
    }
   ],
   "source": [
    "def reverse_integer(num):\n",
    "    # Khởi tạo biến lưu trữ kết quả\n",
    "    reversed_num = 0\n",
    "    \n",
    "    # Xử lý dấu của số nguyên\n",
    "    sign = 1 if num >= 0 else -1\n",
    "    num = abs(num)\n",
    "    \n",
    "    while num > 0:\n",
    "        # Lấy chữ số cuối cùng của số nguyên\n",
    "        digit = num % 10\n",
    "        \n",
    "        # Thêm chữ số này vào kết quả\n",
    "        reversed_num = reversed_num * 10 + digit\n",
    "        \n",
    "        # Loại bỏ chữ số cuối cùng khỏi số nguyên\n",
    "        num = num // 10\n",
    "    \n",
    "    # Đảo lại dấu nếu cần\n",
    "    reversed_num *= sign\n",
    "    \n",
    "    return reversed_num\n",
    "num = 1234\n",
    "reversed_num = reverse_integer(num)\n",
    "print(reversed_num)  # In ra 4321\n",
    "\n"
   ]
  },
  {
   "cell_type": "code",
   "execution_count": 16,
   "id": "66ae4467",
   "metadata": {},
   "outputs": [
    {
     "name": "stdout",
     "output_type": "stream",
     "text": [
      "Hai từ là đảo chữ của nhau.\n"
     ]
    }
   ],
   "source": [
    "def is_anagram(word1, word2):\n",
    "    # Loại bỏ các khoảng trắng và chuyển chữ cái thành chữ thường\n",
    "    word1 = word1.replace(\" \", \"\").lower()\n",
    "    word2 = word2.replace(\" \", \"\").lower()\n",
    "\n",
    "    # So sánh hai từ đã xử lý\n",
    "    return sorted(word1) == sorted(word2)\n",
    "# Ví dụ sử dụng:\n",
    "word1 = \"restful\"\n",
    "word2 = \"fluster \"\n",
    "result = is_anagram(word1, word2)\n",
    "if result:\n",
    "    print(\"Hai từ là đảo chữ của nhau.\")\n",
    "else:\n",
    "    print(\"Hai từ không phải là đảo chữ của nhau.\")\n"
   ]
  },
  {
   "cell_type": "code",
   "execution_count": 19,
   "id": "800a15d6",
   "metadata": {},
   "outputs": [],
   "source": [
    "class Node :\n",
    "    def __init__ (self):\n",
    "        self.data = data\n",
    "        self.nextNode =None\n",
    "class LinkedList :\n",
    "    \n",
    "    def __init__(self):\n",
    "        self.head =None\n",
    "        self.numOfNodes =0\n",
    "        \n",
    "    def insert_start(self,data):\n",
    "        \n",
    "        self.numONodes = self.numOfNodes +1\n",
    "        new_node =Node(data)\n",
    "        \n",
    "        if not self.head:\n",
    "            self.head = new_node\n",
    "        else :\n",
    "            new_node.nextNode = self.head\n",
    "            self.head = new_node\n",
    "    def insert_end(self,data):\n",
    "        \n",
    "        self.numOfNodes = self.numOfNodes+1\n",
    "        new_node = Node(data)\n",
    "        \n",
    "        actual_node = self.head\n",
    "        \n",
    "        while actual_node.nextNode is not None :\n",
    "            actual_node = actual_node.nextNode\n",
    "            \n",
    "        actual_node.nextNode = new_node\n",
    "    "
   ]
  },
  {
   "cell_type": "code",
   "execution_count": null,
   "id": "a6d89d45",
   "metadata": {},
   "outputs": [],
   "source": []
  },
  {
   "cell_type": "code",
   "execution_count": null,
   "id": "63237dd7",
   "metadata": {},
   "outputs": [],
   "source": []
  },
  {
   "cell_type": "code",
   "execution_count": null,
   "id": "11928ae1",
   "metadata": {},
   "outputs": [],
   "source": [
    "def is_palindrome(s): # định nghĩa hàm is_palindrome với tham số đầu vào là s\n",
    "     # Khởi tạo hai con trỏ, một bắt đầu từ đầu và một bắt đầu từ cuối chuỗi\n",
    "    left = 0\n",
    "    right = len(s) - 1\n",
    "    \n",
    "    while left < right:\n",
    "        \n",
    "        if s[left] != s[right]: # So sánh các ký tự ở vị trí hiện tại \n",
    "            return False # trả về false\n",
    "        left += 1 # Bỏ qua các ký tự không phải chữ và số từ bên trái\n",
    "        right -= 1 # Bỏ qua các ký tự không phải chữ và số từ bên phải\n",
    "    \n",
    "    return True\n",
    "\n",
    "# Sử dụng hàm is_palindrome() để kiểm tra chuỗi\n",
    "input_string = input(\"Nhập chuỗi cần kiểm tra: \")\n",
    "if is_palindrome(input_string):\n",
    "    print(\"Chuỗi là palindrome\")\n",
    "else:\n",
    "    print(\"Chuỗi không là palindrome\")\n"
   ]
  },
  {
   "cell_type": "code",
   "execution_count": null,
   "id": "1d20ad32",
   "metadata": {},
   "outputs": [],
   "source": [
    "def is_palindrome(s):\n",
    "    s = s.lower() # Chuyển chuỗi thành chữ thường để so sánh không phân biệt hoa thường\n",
    "    \n",
    "    # Khởi tạo hai con trỏ, một bắt đầu từ đầu và một bắt đầu từ cuối chuỗi\n",
    "    left, right = 0, len(s) - 1\n",
    "    \n",
    "    while left < right:\n",
    "        # Bỏ qua các ký tự không phải chữ và số từ bên trái\n",
    "        while left < right and not s[left].isalnum():\n",
    "            left += 1\n",
    "        \n",
    "        # Bỏ qua các ký tự không phải chữ và số từ bên phải\n",
    "        while left < right and not s[right].isalnum():\n",
    "            right -= 1\n",
    "        \n",
    "        # So sánh các ký tự ở vị trí hiện tại (bỏ qua sự phân biệt hoa thường)\n",
    "        if s[left] != s[right]:\n",
    "            return False\n",
    "        \n",
    "        # Di chuyển các con trỏ gần nhau hơn\n",
    "        left += 1\n",
    "        right -= 1\n",
    "    return True\n",
    "chuoi_nhap = \"A man, a plan, a canal: Panama\"\n",
    "ket_qua = is_palindrome(chuoi_nhap)\n",
    "if ket_qua:\n",
    "    print(\"Chuỗi là chuỗi đối xứng.\")\n",
    "else:\n",
    "    print(\"Chuỗi không phải là chuỗi đối xứng.\")\n",
    "\n"
   ]
  }
 ],
 "metadata": {
  "kernelspec": {
   "display_name": "Python 3 (ipykernel)",
   "language": "python",
   "name": "python3"
  },
  "language_info": {
   "codemirror_mode": {
    "name": "ipython",
    "version": 3
   },
   "file_extension": ".py",
   "mimetype": "text/x-python",
   "name": "python",
   "nbconvert_exporter": "python",
   "pygments_lexer": "ipython3",
   "version": "3.11.4"
  }
 },
 "nbformat": 4,
 "nbformat_minor": 5
}
