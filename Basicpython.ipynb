{
  "nbformat": 4,
  "nbformat_minor": 0,
  "metadata": {
    "colab": {
      "provenance": []
    },
    "kernelspec": {
      "name": "python3",
      "display_name": "Python 3"
    },
    "language_info": {
      "name": "python"
    }
  },
  "cells": [
    {
      "cell_type": "code",
      "execution_count": 5,
      "metadata": {
        "colab": {
          "base_uri": "https://localhost:8080/"
        },
        "id": "gMn3Up-DRUod",
        "outputId": "e566e8e2-94af-4ea2-fa51-97a76502bdc8"
      },
      "outputs": [
        {
          "output_type": "stream",
          "name": "stdout",
          "text": [
            "{5: 'five', 2: 'two', 'pi': 3.1415926}\n",
            "3.1415926\n"
          ]
        }
      ],
      "source": [
        "d = dict() # tạo 1 dict rỗng\n",
        "d[5] = \"five\" # thêm 1 cặp key-value vào dictionary\n",
        "d[2] = \"two\" #  thêm một cặp key-value khác vào dictionary d. Key là số nguyên 2, và giá trị là chuỗi 'two'\n",
        "d[\"pi\"] = 3.1415926 # Dòng này thêm một cặp key-value khác vào dictionary d. Key là chuỗi pi, và giá trị là số thực \"3.1415926\"\n",
        "print(d) # in ra toàn bộ nội dung của dictionary\n",
        "print(d[\"pi\"]) # in ra giá trị của pi là 3.1415926"
      ]
    },
    {
      "cell_type": "markdown",
      "source": [],
      "metadata": {
        "id": "Q0LflO6Kbvbh"
      }
    },
    {
      "cell_type": "code",
      "source": [
        "s = {2,1} # khởi tạo giá trị của set\n",
        "print(type(s)) # in ra kiểu dữ liệu của s\n",
        "s.add(3) # thêm giá trị 3 vào set được set mới s={1,2,3}\n",
        "s.add(2) # thêm giá trị 2 vào set nhưng 2 đã có trong set nên s không thay đổi s={1,2,3}\n",
        "s.add(2)\n",
        "s.add(2)\n",
        "print(s)"
      ],
      "metadata": {
        "colab": {
          "base_uri": "https://localhost:8080/"
        },
        "id": "fUgnFgh_bxPN",
        "outputId": "0254f5b2-4923-49f1-f3c3-29b11bab1d6d"
      },
      "execution_count": 6,
      "outputs": [
        {
          "output_type": "stream",
          "name": "stdout",
          "text": [
            "<class 'set'>\n",
            "{1, 2, 3}\n"
          ]
        }
      ]
    },
    {
      "cell_type": "code",
      "source": [
        "a = \"a string\" # khai báo chuỗi gán cho biến a\n",
        "b = [\"my\", \"second\", \"favorite\", \"list\"] #danh sách list gán cho biến b\n",
        "c = (1, \"tuple\") # một tuple gán cho biến c\n",
        "d = {\"a\": \"b\", \"b\": 2, \"c\": False} # một từ điển dictionary gán cho biến d\n",
        "e = {1,2,3,4,4,4,4,2,2,2,1} # một tập hợp set gán cho biến e\n",
        "print(len(a), len(b), len(c), len(d), len(e)) # dùng \"len\" để in ra độ dài của các biến \"a,b,c,d,e\""
      ],
      "metadata": {
        "colab": {
          "base_uri": "https://localhost:8080/"
        },
        "id": "5CCj-9MmpVU5",
        "outputId": "36b0476d-fe0a-4bc4-ca4a-3882fa4bcc03"
      },
      "execution_count": 8,
      "outputs": [
        {
          "output_type": "stream",
          "name": "stdout",
          "text": [
            "8 4 2 3 4\n"
          ]
        }
      ]
    },
    {
      "cell_type": "code",
      "source": [
        "a = \"a string\" # khai báo chuỗi gán cho biến a\n",
        "b = [\"my\", \"second\", \"favorite\", \"list\"] # mộ danh sách list gán cho biến b\n",
        "c = (1, 2,3,\"tuple\") # một tuple gán cho biến c\n",
        "print(a[3:7]) #sử dụng slicing để trích xuất 1 phần của chuỗi a\n",
        "print(a[1:-2])# trích xuất các ký tự từ chỉ số 1 đến chỉ số -2\n",
        "print(b[1:])# trích xuất các phần tử từ vị trí thứ 1 đến cuối danh sách\n",
        "print(c[:2])#trích xuất các phần tử từ đầu của tuple c đến chỉ số 2"
      ],
      "metadata": {
        "colab": {
          "base_uri": "https://localhost:8080/"
        },
        "id": "0q02Ii2xq9Br",
        "outputId": "eee7d055-c1fe-43f3-d7fb-7a999d7ba7b5"
      },
      "execution_count": 9,
      "outputs": [
        {
          "output_type": "stream",
          "name": "stdout",
          "text": [
            "trin\n",
            " stri\n",
            "['second', 'favorite', 'list']\n",
            "(1, 2)\n"
          ]
        }
      ]
    },
    {
      "cell_type": "code",
      "source": [
        "mylist = [1,3,5]\n",
        "mytuple = (1, 2, \"skip a few\", 99, 100)\n",
        "myset = {\"a\", \"b\", \"z\"}\n",
        "mystring = \"abracadabra\"\n",
        "mydict = {\"a\": 96, \"b\": 97, \"c\": 98}\n",
        "for item in mylist:\n",
        "  print(item)\n",
        "for item in mytuple:\n",
        "  print(item)\n",
        "for element in myset:\n",
        "  print(element)\n",
        "for character in mystring:\n",
        "  print(character)\n",
        "for key in mydict:\n",
        "  print(key)\n",
        "for key, value in mydict.items():\n",
        "  print(key, value)\n",
        "for value in mydict.values():\n",
        "  print(value)\n",
        "for i in range(10):\n",
        "  j = 10 * i + 1\n",
        "  print(j, end=\" \")"
      ],
      "metadata": {
        "colab": {
          "base_uri": "https://localhost:8080/"
        },
        "id": "9GObYcqIvAOU",
        "outputId": "60906b2d-e377-460e-a289-132ee790603e"
      },
      "execution_count": 13,
      "outputs": [
        {
          "output_type": "stream",
          "name": "stdout",
          "text": [
            "1\n",
            "3\n",
            "5\n",
            "1\n",
            "2\n",
            "skip a few\n",
            "99\n",
            "100\n",
            "b\n",
            "z\n",
            "a\n",
            "a\n",
            "b\n",
            "r\n",
            "a\n",
            "c\n",
            "a\n",
            "d\n",
            "a\n",
            "b\n",
            "r\n",
            "a\n",
            "a\n",
            "b\n",
            "c\n",
            "a 96\n",
            "b 97\n",
            "c 98\n",
            "96\n",
            "97\n",
            "98\n",
            "1 11 21 31 41 51 61 71 81 91 "
          ]
        }
      ]
    }
  ]
}