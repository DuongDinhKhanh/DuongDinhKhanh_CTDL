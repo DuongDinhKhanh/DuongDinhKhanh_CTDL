{
 "cells": [
  {
   "cell_type": "code",
   "execution_count": 1,
   "id": "0fba4dbc",
   "metadata": {},
   "outputs": [
    {
     "name": "stdout",
     "output_type": "stream",
     "text": [
      "1\n",
      "3\n",
      "5\n",
      "1\n",
      "2\n",
      "skip a few\n",
      "99\n",
      "100\n",
      "b\n",
      "z\n",
      "a\n",
      "a\n",
      "b\n",
      "r\n",
      "a\n",
      "c\n",
      "a\n",
      "d\n",
      "a\n",
      "b\n",
      "r\n",
      "a\n",
      "a\n",
      "b\n",
      "c\n",
      "a 96\n",
      "b 97\n",
      "c 98\n",
      "96\n",
      "97\n",
      "98\n",
      "1 11 21 31 41 51 61 71 81 91 "
     ]
    }
   ],
   "source": [
    "mylist = [1,3,5] # tạo danh sách list\n",
    "mytuple = (1, 2, \"skip a few\", 99, 100) # tạo danh sách tuple\n",
    "myset = {\"a\", \"b\", \"z\"} # tạo tập hợp set\n",
    "mystring = \"abracadabra\" # tạo mộ chuỗi string \n",
    "mydict = {\"a\": 96, \"b\": 97, \"c\": 98} # tạo một từ điển dictionary\n",
    "for item in mylist: # dùng vòng lặp for để lặp qua các phần tử bằng cách sử dụng phương thức .items()\n",
    " #biến item là biến lặp (iteration variable) \n",
    "# lấy giá trị của từng phần tử trong danh sách mylist lần lượt khi vòng lặp được thực hiện.\n",
    "  print(item) # in lần lượt các phần tử ra màn hình\n",
    "for item in mytuple: # dùng vòng lặp for để lặp qua các phần tử bằng cách sử dụng phương thức .items()\n",
    "  print(item) # in lần lượt các phần tử ra màn hình\n",
    "for element in myset: # dùng vòng lặp for để lặp qua các phần tử bằng cách sử dụng phương thức .items()\n",
    "  print(element) # in lần lượt các phần tử ra màn hình\n",
    "for character in mystring:# dùng vòng lặp for để lặp qua các ký tự bằng cách sử dụng phương thức .items()\n",
    "  print(character)  # in lần lượt các ký tự ra màn hình\n",
    "for key in mydict:# dùng vòng lặp for để lặp qua các key bằng cách sử dụng phương thức .items()\n",
    "  print(key) # in lần lượt các key ra màn hình\n",
    "for key, value in mydict.items(): # dùng vòng lặp for để lặp qua các cặp key-value bằng cách sử dụng phương thức .items()\n",
    "  print(key, value)# in lần lượt các cặp key-value ra màn hình\n",
    "for value in mydict.values():# dùng vòng lặp for để lặp qua các giá trị bằng cách sử dụng phương thức .items()\n",
    "  print(value) # in lần lượt các giá trị ra màn hình\n",
    "for i in range(10):#vòng lặp for để lặp qua các giá trị của biến i từ 0 đến 9. Hàm range(10) tạo một dãy số từ 0 đến 9 (không bao gồm 10).\n",
    "  j = 10 * i + 1 \n",
    "  print(j, end=\" \") #sử dụng end=\" \" để ngăn xuống dòng sau mỗi giá trị và in ra màn hình từng giá trị,"
   ]
  },
  {
   "cell_type": "code",
   "execution_count": 3,
   "id": "be34bdce",
   "metadata": {},
   "outputs": [
    {
     "name": "stdout",
     "output_type": "stream",
     "text": [
      "This should be printed.\n"
     ]
    }
   ],
   "source": [
    "if 3 + 3 < 7: # kiểm tra điều kiện xem 3+3 có nhỏ hơn 7 không \n",
    "    print(\"This should be printed.\") # nếu điều kiện trên đúng thì in ra màn hình \n",
    "if 2 ** 8 != 256: # kiểm tra xem 2**8 có khác 256 không\n",
    "    print(\"This should not be printed.\") # nếu điều kiệm đúng thì in ra màn hình "
   ]
  },
  {
   "cell_type": "code",
   "execution_count": 5,
   "id": "794c6e05",
   "metadata": {},
   "outputs": [
    {
     "name": "stdout",
     "output_type": "stream",
     "text": [
      "This will print.\n"
     ]
    }
   ],
   "source": [
    "if False: # nếu điều kiện sai\n",
    "    print(\"This is bad.\") # điều kiện sai in ra màn hình \n",
    "else: # ngược lại \n",
    "    print(\"This will print.\") # in ra màn hình "
   ]
  },
  {
   "cell_type": "code",
   "execution_count": 8,
   "id": "ffcefa00",
   "metadata": {},
   "outputs": [
    {
     "name": "stdout",
     "output_type": "stream",
     "text": [
      "1 2 4 8 16 32 64 "
     ]
    }
   ],
   "source": [
    "x = 1 # khởi tạo giá trị của biến x\n",
    "while x < 128: # vòng lặp lặp tới khi x>128 thì quay lại \n",
    "    print(x, end=\" \") # in ra màn hình các giá trị của x\n",
    "    x = x * 2 "
   ]
  },
  {
   "cell_type": "code",
   "execution_count": 11,
   "id": "9c82f52d",
   "metadata": {},
   "outputs": [
    {
     "name": "stdout",
     "output_type": "stream",
     "text": [
      "You can’t do that!\n"
     ]
    }
   ],
   "source": [
    "x = \"not a number\" # khởi tạo chuỗi gán cho biến x\n",
    "try:\n",
    "    f = float(x) #chuyển đổi giá trị của biến x thành một số thực (float).\n",
    "except ValueError:#xử lý ngoại lệ kiểu ValueError \n",
    "    print(\"You can’t do that!\")# in câu lệnh ra màn hình nếu chương trình có lỗi"
   ]
  },
  {
   "cell_type": "code",
   "execution_count": 13,
   "id": "c3fc8194",
   "metadata": {},
   "outputs": [
    {
     "name": "stdout",
     "output_type": "stream",
     "text": [
      "17\n",
      "NaNaNaNaNaNaNaNa batman\n"
     ]
    }
   ],
   "source": [
    "def foo(x, y): # định ngĩa hàm foo với hai tham số x và y\n",
    "    return 8 * x + y # thực hiện phép tính và trả về kết quả .\n",
    "print(foo(2, 1)) # hàm foo với đối số x là 2 và y là 1. Hàm foo sẽ tính toán 8 * 2 + 1 và trả về kết quả là 17 và in ra màn hình\n",
    "print(foo(\"Na\", \" batman\")) # hàm foo với đối số x là Na và y là batman ."
   ]
  },
  {
   "cell_type": "code",
   "execution_count": 14,
   "id": "ba2ef120",
   "metadata": {},
   "outputs": [
    {
     "name": "stdout",
     "output_type": "stream",
     "text": [
      "6\n",
      "6\n"
     ]
    }
   ],
   "source": [
    "def foo(x): # định nghĩa hàm foo với tham số x\n",
    "    return x + 2 # thực hiện phép tính và trả về kết quả\n",
    "def bar(somefunction): # định nghĩa hàm bar nhận tham số là một hàm somefuntion\n",
    "    return somefunction(4) # hàm có đối số 4 \n",
    "print(bar(foo)) # gọi hàm bar và truyền hàm foo vào làm đối số\n",
    "somevariable = foo # gán giá trị somevariable cho foo\n",
    "print(bar(somevariable))# gọi hàm bar và truyền hàm somevariable vào làm đối số"
   ]
  },
  {
   "cell_type": "code",
   "execution_count": null,
   "id": "10d5308b",
   "metadata": {},
   "outputs": [],
   "source": [
    "# File: twofunctions.py\n",
    "def f(x):\n",
    "return 2 * x + 3\n",
    "def g(x):\n",
    "return x ** 2 - 1\n",
    "# File: theimporter.py\n",
    "import twofunctions\n",
    "def f(x):\n",
    "return x - 1\n",
    "print(twofunctions.f(1)) # Will print 5\n",
    "print(f(1)) # Will print 0\n",
    "print(twofunctions.g(4)) # Will print 15"
   ]
  }
 ],
 "metadata": {
  "kernelspec": {
   "display_name": "Python 3 (ipykernel)",
   "language": "python",
   "name": "python3"
  },
  "language_info": {
   "codemirror_mode": {
    "name": "ipython",
    "version": 3
   },
   "file_extension": ".py",
   "mimetype": "text/x-python",
   "name": "python",
   "nbconvert_exporter": "python",
   "pygments_lexer": "ipython3",
   "version": "3.11.4"
  }
 },
 "nbformat": 4,
 "nbformat_minor": 5
}
