{
 "cells": [
  {
   "cell_type": "code",
   "execution_count": 11,
   "id": "ff8d694d",
   "metadata": {},
   "outputs": [
    {
     "name": "stdout",
     "output_type": "stream",
     "text": [
      "Nhập chuỗi cần kiểm tra: radar\n",
      "Chuỗi là palindrome\n"
     ]
    }
   ],
   "source": [
    "def is_palindrome(s): # định nghĩa hàm is_palindrome với tham số đầu vào là s\n",
    "     # Khởi tạo hai con trỏ, một bắt đầu từ đầu và một bắt đầu từ cuối chuỗi\n",
    "    left = 0\n",
    "    right = len(s) - 1\n",
    "    \n",
    "    while left < right:\n",
    "        \n",
    "        if s[left] != s[right]: # So sánh các ký tự ở vị trí hiện tại \n",
    "            return False # trả về false\n",
    "        left += 1 # Bỏ qua các ký tự không phải chữ và số từ bên trái\n",
    "        right -= 1 # Bỏ qua các ký tự không phải chữ và số từ bên phải\n",
    "    \n",
    "    return True\n",
    "\n",
    "# Sử dụng hàm is_palindrome() để kiểm tra chuỗi\n",
    "input_string = input(\"Nhập chuỗi cần kiểm tra: \")\n",
    "if is_palindrome(input_string):\n",
    "    print(\"Chuỗi là palindrome\")\n",
    "else:\n",
    "    print(\"Chuỗi không là palindrome\")\n"
   ]
  },
  {
   "cell_type": "code",
   "execution_count": 8,
   "id": "08cf5269",
   "metadata": {},
   "outputs": [
    {
     "name": "stdout",
     "output_type": "stream",
     "text": [
      "Nhập số nguyên cần đảo ngược: 5678\n",
      "8765\n"
     ]
    }
   ],
   "source": [
    "def reverse_integer(num):\n",
    "    # Khởi tạo biến lưu trữ kết quả\n",
    "    reversed_num = 0\n",
    "    \n",
    "    # Xử lý dấu của số nguyên\n",
    "    sign = 1 if num >= 0 else -1\n",
    "    num = abs(num)\n",
    "    \n",
    "    while num > 0:\n",
    "        # Lấy chữ số cuối cùng của số nguyên\n",
    "        digit = num % 10\n",
    "        \n",
    "        # Thêm chữ số này vào kết quả\n",
    "        reversed_num = reversed_num * 10 + digit\n",
    "        \n",
    "        # Loại bỏ chữ số cuối cùng khỏi số nguyên\n",
    "        num = num // 10\n",
    "    \n",
    "    # Đảo lại dấu nếu cần\n",
    "    reversed_num *= sign\n",
    "    \n",
    "    return reversed_num\n",
    "input_num = int(input(\"Nhập số nguyên cần đảo ngược: \"))\n",
    "reversed_num = reverse_integer(input_num)\n",
    "print(reversed_num) \n"
   ]
  },
  {
   "cell_type": "code",
   "execution_count": 7,
   "id": "901bc90c",
   "metadata": {},
   "outputs": [
    {
     "name": "stdout",
     "output_type": "stream",
     "text": [
      "Nhập số nguyên cần đảo ngược: 45678\n",
      "Số sau khi đảo ngược là: 87654\n"
     ]
    }
   ],
   "source": [
    "def reverse_integer(num):\n",
    "    # Chuyển đổi số nguyên thành chuỗi\n",
    "    str_num = str(num)\n",
    "    \n",
    "    # Đảo ngược chuỗi số\n",
    "    reversed_str = str_num[::-1]\n",
    "    \n",
    "    # Chuyển đổi chuỗi số đã đảo ngược thành số nguyên\n",
    "    reversed_num = int(reversed_str)\n",
    "    \n",
    "    return reversed_num\n",
    "\n",
    "# Sử dụng hàm reverse_integer() để đảo ngược số\n",
    "input_num = int(input(\"Nhập số nguyên cần đảo ngược: \"))\n",
    "reversed_num = reverse_integer(input_num)\n",
    "print(\"Số sau khi đảo ngược là:\", reversed_num)\n"
   ]
  },
  {
   "cell_type": "code",
   "execution_count": 10,
   "id": "92b6931b",
   "metadata": {},
   "outputs": [
    {
     "name": "stdout",
     "output_type": "stream",
     "text": [
      "Nhập từ thứ nhất: restful\n",
      "Nhập từ thứ hai: fulster\n",
      "Hai từ là anagram\n"
     ]
    }
   ],
   "source": [
    "def is_anagram(word1, word2): # định nghĩa hàm is_anagram với 2 tham số là word1 , word2\n",
    "    # Loại bỏ các dấu cách và chuyển đổi tất cả các ký tự thành chữ thường\n",
    "    word1 = word1.replace(\" \", \"\").lower() # loại bỏ khoảng trắng của từ và không phân biệt chữ hoa và chữ thường \n",
    "    word2 = word2.replace(\" \", \"\").lower()\n",
    "    \n",
    "    # Kiểm tra xem hai từ đã có cùng độ dài hay không\n",
    "    if len(word1) != len(word2):\n",
    "        return False \n",
    "    \n",
    "    # Sắp xếp các ký tự trong hai từ theo thứ tự từ điển\n",
    "    sorted_word1 = sorted(word1)\n",
    "    sorted_word2 = sorted(word2)\n",
    "    \n",
    "    # So sánh hai từ sau khi đã sắp xếp\n",
    "    if sorted_word1 == sorted_word2:\n",
    "        return True\n",
    "    else:\n",
    "        return False\n",
    "\n",
    "# Sử dụng hàm is_anagram() để kiểm tra hai từ\n",
    "input_word1 = input(\"Nhập từ thứ nhất: \")\n",
    "input_word2 = input(\"Nhập từ thứ hai: \")\n",
    "if is_anagram(input_word1, input_word2):\n",
    "    print(\"Hai từ là anagram\")\n",
    "else:\n",
    "    print(\"Hai từ không là anagram\")\n"
   ]
  },
  {
   "cell_type": "code",
   "execution_count": 12,
   "id": "90a8b8c3",
   "metadata": {},
   "outputs": [
    {
     "name": "stdout",
     "output_type": "stream",
     "text": [
      "Các bản sao trong mảng là: [1, 2, 3]\n"
     ]
    }
   ],
   "source": [
    "def find_duplicates(arr):\n",
    "    # Khởi tạo mảng count với tất cả giá trị là 0\n",
    "    count = [0] * len(arr)\n",
    "    \n",
    "    # Duyệt qua mảng arr\n",
    "    for num in arr:\n",
    "        # Kiểm tra nếu số num nằm trong khoảng hợp lệ và chưa được đếm\n",
    "        if 0 <= num < len(arr) and count[num] == 0:\n",
    "            count[num] += 1\n",
    "    \n",
    "    # Duyệt qua mảng count để tìm các số có đúng một bản sao\n",
    "    duplicates = []\n",
    "    for i in range(len(count)):\n",
    "        if count[i] == 1:\n",
    "            duplicates.append(i)\n",
    "    \n",
    "    return duplicates\n",
    "\n",
    "# Sử dụng hàm find_duplicates() để tìm các bản sao trong mảng\n",
    "input_arr = [1, 2, 3, 1, 5]\n",
    "duplicates = find_duplicates(input_arr)\n",
    "print(\"Các bản sao trong mảng là:\", duplicates)\n"
   ]
  },
  {
   "cell_type": "code",
   "execution_count": 13,
   "id": "066a44e3",
   "metadata": {},
   "outputs": [
    {
     "name": "stdout",
     "output_type": "stream",
     "text": [
      "Các phần tử trùng lặp là: [1]\n"
     ]
    }
   ],
   "source": [
    "def find_duplicates(nums):\n",
    "    n = len(nums)\n",
    "    duplicates = []\n",
    "\n",
    "    for i in range(n):\n",
    "        # Tính vị trí của phần tử tương ứng trong mảng\n",
    "        index = abs(nums[i]) % n\n",
    "        \n",
    "        # Kiểm tra nếu phần tử đã thăm trước đó\n",
    "        if nums[index] < 0:\n",
    "            duplicates.append(abs(nums[i]))\n",
    "        else:\n",
    "            nums[index] = -nums[index]\n",
    "    \n",
    "    return duplicates\n",
    "arr = [1, 2, 3, 1, 5]\n",
    "duplicates = find_duplicates(arr)\n",
    "print(\"Các phần tử trùng lặp là:\", duplicates)"
   ]
  },
  {
   "cell_type": "code",
   "execution_count": 14,
   "id": "0dec48a1",
   "metadata": {},
   "outputs": [
    {
     "name": "stdout",
     "output_type": "stream",
     "text": [
      "Các phần tử trùng lặp là: [1]\n"
     ]
    }
   ],
   "source": [
    "def find_duplicates(nums):\n",
    "    n = len(nums)\n",
    "    duplicates = []  # Khởi tạo một danh sách để lưu trữ các phần tử trùng lặp\n",
    "\n",
    "    for i in range(n):  # Duyệt qua từng phần tử trong mảng\n",
    "        # Tính vị trí của phần tử tương ứng trong mảng\n",
    "        index = abs(nums[i]) % n\n",
    "\n",
    "        # Kiểm tra nếu phần tử đã thăm trước đó\n",
    "        if nums[index] < 0:\n",
    "         # Nếu phần tử đã là một số âm (đã thăm), thêm giá trị tuyệt đối của phần tử vào danh sách duplicates\n",
    "            duplicates.append(abs(nums[i]))\n",
    "        else:\n",
    "            # Nếu phần tử chưa được thăm, đánh dấu nó bằng cách đặt giá trị âm\n",
    "            nums[index] = -nums[index]\n",
    "\n",
    "    return duplicates  # Trả về danh sách các phần tử trùng lặp\n",
    "\n",
    "arr = [1, 2, 3, 1, 5]\n",
    "duplicates = find_duplicates(arr)  # Gọi hàm find_duplicates để tìm các phần tử trùng lặp\n",
    "print(\"Các phần tử trùng lặp là:\", duplicates)  # In ra danh sách các phần tử trùng lặp\n"
   ]
  },
  {
   "cell_type": "code",
   "execution_count": null,
   "id": "e891d780",
   "metadata": {},
   "outputs": [],
   "source": [
    "class Node : # định nghĩa lớp Node \n",
    "    def __init__ (self):# khởi tạo một đối tượng Node. Nó nhận một tham số `data` và gán nó cho thuộc tính `self.data`.\n",
    "        self.data = data # Gán thuộc tính `self.nextNode` với giá trị None để đại diện cho một nút không có nút kế tiếp.\n",
    "        self.nextNode =None\n",
    "class LinkedList : # Định nghĩa một lớp `LinkedList` để tạo đối tượng danh sách liên kết.\n",
    "    \n",
    "    def __init__(self): #  Phương thức `__init__` để khởi tạo một đối tượng LinkedList.\n",
    "        self.head =None #  Gán thuộc tính `self.head` với giá trị None để đại diện cho một danh sách rỗng.\n",
    "        self.numOfNodes =0 # Gán thuộc tính `self.numOfNodes` với giá trị 0 để đếm số lượng nút trong danh sách.\n",
    "        \n",
    "    def insert_start(self,data):#  Định nghĩa phương thức `insert_start` để chèn một nút mới vào đầu danh sách.\n",
    "        \n",
    "        self.numONodes = self.numOfNodes +1 # Tăng giá trị `self.numOfNodes` lên 1 để đếm số lượng nút.\n",
    "        new_node =Node(data) # Tạo một đối tượng mới từ lớp `Node` với giá trị `data`, lưu trữ trong `new_node`.\n",
    "        \n",
    "        if not self.head: # Kiểm tra nếu danh sách không có nút nào (`self.head` là None), gán `new_node` cho `self.head`\n",
    "            self.head = new_node\n",
    "        else :\n",
    "            new_node.nextNode = self.head # cập nhật `nextNode` của `new_node` thành `self.head`, sau đó gán `new_node` cho `self.head`.\n",
    "            self.head = new_node\n",
    "    def insert_end(self,data): # Định nghĩa phương thức `insert_end` để chèn một nút mới vào cuối danh sách.\n",
    "        \n",
    "        self.numOfNodes = self.numOfNodes+1 # ăng giá trị `self.numOfNodes` lên 1 để đếm số lượng nút.\n",
    "        new_node = Node(data) # Tạo một đối tượng mới từ lớp `Node` với giá trị `data`, lưu trữ trong `new_node`.\n",
    "        \n",
    "        actual_node = self.head\n",
    "        \n",
    "        while actual_node.nextNode is not None :\n",
    "            actual_node = actual_node.nextNode\n",
    " # Tìm nút cuối cùng trong danh sách bằng cách duyệt qua từng nút kế tiếp cho đến khi `nextNode` của nút hiện tại là None\n",
    "#Sau đó, gán `new_node` cho `nextNode` của nút hiện tại.           \n",
    "        actual_node.nextNode = new_node"
   ]
  }
 ],
 "metadata": {
  "kernelspec": {
   "display_name": "Python 3 (ipykernel)",
   "language": "python",
   "name": "python3"
  },
  "language_info": {
   "codemirror_mode": {
    "name": "ipython",
    "version": 3
   },
   "file_extension": ".py",
   "mimetype": "text/x-python",
   "name": "python",
   "nbconvert_exporter": "python",
   "pygments_lexer": "ipython3",
   "version": "3.11.4"
  }
 },
 "nbformat": 4,
 "nbformat_minor": 5
}
